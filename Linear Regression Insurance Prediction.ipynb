{
 "cells": [
  {
   "cell_type": "code",
   "execution_count": 1,
   "id": "e0de98c2",
   "metadata": {},
   "outputs": [],
   "source": [
    "import numpy as np\n",
    "import pandas as pd\n",
    "import matplotlib.pyplot as plt\n",
    "import seaborn as sns"
   ]
  },
  {
   "cell_type": "code",
   "execution_count": 2,
   "id": "bdce368d",
   "metadata": {},
   "outputs": [],
   "source": [
    "df = pd.read_csv(r\"D:\\Fingertips\\Python\\Project\\project3\\Python_Linear_Regres.csv\")"
   ]
  },
  {
   "cell_type": "code",
   "execution_count": 3,
   "id": "6828de81",
   "metadata": {},
   "outputs": [
    {
     "data": {
      "text/html": [
       "<div>\n",
       "<style scoped>\n",
       "    .dataframe tbody tr th:only-of-type {\n",
       "        vertical-align: middle;\n",
       "    }\n",
       "\n",
       "    .dataframe tbody tr th {\n",
       "        vertical-align: top;\n",
       "    }\n",
       "\n",
       "    .dataframe thead th {\n",
       "        text-align: right;\n",
       "    }\n",
       "</style>\n",
       "<table border=\"1\" class=\"dataframe\">\n",
       "  <thead>\n",
       "    <tr style=\"text-align: right;\">\n",
       "      <th></th>\n",
       "      <th>age</th>\n",
       "      <th>sex</th>\n",
       "      <th>bmi</th>\n",
       "      <th>children</th>\n",
       "      <th>smoker</th>\n",
       "      <th>region</th>\n",
       "      <th>charges</th>\n",
       "    </tr>\n",
       "  </thead>\n",
       "  <tbody>\n",
       "    <tr>\n",
       "      <th>0</th>\n",
       "      <td>19</td>\n",
       "      <td>female</td>\n",
       "      <td>27.900</td>\n",
       "      <td>0</td>\n",
       "      <td>yes</td>\n",
       "      <td>southwest</td>\n",
       "      <td>16884.92400</td>\n",
       "    </tr>\n",
       "    <tr>\n",
       "      <th>1</th>\n",
       "      <td>18</td>\n",
       "      <td>male</td>\n",
       "      <td>33.770</td>\n",
       "      <td>1</td>\n",
       "      <td>no</td>\n",
       "      <td>southeast</td>\n",
       "      <td>1725.55230</td>\n",
       "    </tr>\n",
       "    <tr>\n",
       "      <th>2</th>\n",
       "      <td>28</td>\n",
       "      <td>male</td>\n",
       "      <td>33.000</td>\n",
       "      <td>3</td>\n",
       "      <td>no</td>\n",
       "      <td>southeast</td>\n",
       "      <td>4449.46200</td>\n",
       "    </tr>\n",
       "    <tr>\n",
       "      <th>3</th>\n",
       "      <td>33</td>\n",
       "      <td>male</td>\n",
       "      <td>22.705</td>\n",
       "      <td>0</td>\n",
       "      <td>no</td>\n",
       "      <td>northwest</td>\n",
       "      <td>21984.47061</td>\n",
       "    </tr>\n",
       "    <tr>\n",
       "      <th>4</th>\n",
       "      <td>32</td>\n",
       "      <td>male</td>\n",
       "      <td>28.880</td>\n",
       "      <td>0</td>\n",
       "      <td>no</td>\n",
       "      <td>northwest</td>\n",
       "      <td>3866.85520</td>\n",
       "    </tr>\n",
       "  </tbody>\n",
       "</table>\n",
       "</div>"
      ],
      "text/plain": [
       "   age     sex     bmi  children smoker     region      charges\n",
       "0   19  female  27.900         0    yes  southwest  16884.92400\n",
       "1   18    male  33.770         1     no  southeast   1725.55230\n",
       "2   28    male  33.000         3     no  southeast   4449.46200\n",
       "3   33    male  22.705         0     no  northwest  21984.47061\n",
       "4   32    male  28.880         0     no  northwest   3866.85520"
      ]
     },
     "execution_count": 3,
     "metadata": {},
     "output_type": "execute_result"
    }
   ],
   "source": [
    "df.head()"
   ]
  },
  {
   "cell_type": "code",
   "execution_count": 4,
   "id": "c0d4a38f",
   "metadata": {},
   "outputs": [
    {
     "data": {
      "text/plain": [
       "age         0\n",
       "sex         0\n",
       "bmi         0\n",
       "children    0\n",
       "smoker      0\n",
       "region      0\n",
       "charges     0\n",
       "dtype: int64"
      ]
     },
     "execution_count": 4,
     "metadata": {},
     "output_type": "execute_result"
    }
   ],
   "source": [
    "df.isnull().sum()"
   ]
  },
  {
   "cell_type": "code",
   "execution_count": 5,
   "id": "a4f459b8",
   "metadata": {},
   "outputs": [
    {
     "data": {
      "text/html": [
       "<div>\n",
       "<style scoped>\n",
       "    .dataframe tbody tr th:only-of-type {\n",
       "        vertical-align: middle;\n",
       "    }\n",
       "\n",
       "    .dataframe tbody tr th {\n",
       "        vertical-align: top;\n",
       "    }\n",
       "\n",
       "    .dataframe thead th {\n",
       "        text-align: right;\n",
       "    }\n",
       "</style>\n",
       "<table border=\"1\" class=\"dataframe\">\n",
       "  <thead>\n",
       "    <tr style=\"text-align: right;\">\n",
       "      <th></th>\n",
       "      <th>age</th>\n",
       "      <th>bmi</th>\n",
       "      <th>children</th>\n",
       "      <th>charges</th>\n",
       "    </tr>\n",
       "  </thead>\n",
       "  <tbody>\n",
       "    <tr>\n",
       "      <th>count</th>\n",
       "      <td>1338.000000</td>\n",
       "      <td>1338.000000</td>\n",
       "      <td>1338.000000</td>\n",
       "      <td>1338.000000</td>\n",
       "    </tr>\n",
       "    <tr>\n",
       "      <th>mean</th>\n",
       "      <td>39.207025</td>\n",
       "      <td>30.663397</td>\n",
       "      <td>1.094918</td>\n",
       "      <td>13270.422265</td>\n",
       "    </tr>\n",
       "    <tr>\n",
       "      <th>std</th>\n",
       "      <td>14.049960</td>\n",
       "      <td>6.098187</td>\n",
       "      <td>1.205493</td>\n",
       "      <td>12110.011237</td>\n",
       "    </tr>\n",
       "    <tr>\n",
       "      <th>min</th>\n",
       "      <td>18.000000</td>\n",
       "      <td>15.960000</td>\n",
       "      <td>0.000000</td>\n",
       "      <td>1121.873900</td>\n",
       "    </tr>\n",
       "    <tr>\n",
       "      <th>25%</th>\n",
       "      <td>27.000000</td>\n",
       "      <td>26.296250</td>\n",
       "      <td>0.000000</td>\n",
       "      <td>4740.287150</td>\n",
       "    </tr>\n",
       "    <tr>\n",
       "      <th>50%</th>\n",
       "      <td>39.000000</td>\n",
       "      <td>30.400000</td>\n",
       "      <td>1.000000</td>\n",
       "      <td>9382.033000</td>\n",
       "    </tr>\n",
       "    <tr>\n",
       "      <th>75%</th>\n",
       "      <td>51.000000</td>\n",
       "      <td>34.693750</td>\n",
       "      <td>2.000000</td>\n",
       "      <td>16639.912515</td>\n",
       "    </tr>\n",
       "    <tr>\n",
       "      <th>max</th>\n",
       "      <td>64.000000</td>\n",
       "      <td>53.130000</td>\n",
       "      <td>5.000000</td>\n",
       "      <td>63770.428010</td>\n",
       "    </tr>\n",
       "  </tbody>\n",
       "</table>\n",
       "</div>"
      ],
      "text/plain": [
       "               age          bmi     children       charges\n",
       "count  1338.000000  1338.000000  1338.000000   1338.000000\n",
       "mean     39.207025    30.663397     1.094918  13270.422265\n",
       "std      14.049960     6.098187     1.205493  12110.011237\n",
       "min      18.000000    15.960000     0.000000   1121.873900\n",
       "25%      27.000000    26.296250     0.000000   4740.287150\n",
       "50%      39.000000    30.400000     1.000000   9382.033000\n",
       "75%      51.000000    34.693750     2.000000  16639.912515\n",
       "max      64.000000    53.130000     5.000000  63770.428010"
      ]
     },
     "execution_count": 5,
     "metadata": {},
     "output_type": "execute_result"
    }
   ],
   "source": [
    "df.describe()"
   ]
  },
  {
   "cell_type": "code",
   "execution_count": 6,
   "id": "219fa8f8",
   "metadata": {},
   "outputs": [
    {
     "name": "stdout",
     "output_type": "stream",
     "text": [
      "<class 'pandas.core.frame.DataFrame'>\n",
      "RangeIndex: 1338 entries, 0 to 1337\n",
      "Data columns (total 7 columns):\n",
      " #   Column    Non-Null Count  Dtype  \n",
      "---  ------    --------------  -----  \n",
      " 0   age       1338 non-null   int64  \n",
      " 1   sex       1338 non-null   object \n",
      " 2   bmi       1338 non-null   float64\n",
      " 3   children  1338 non-null   int64  \n",
      " 4   smoker    1338 non-null   object \n",
      " 5   region    1338 non-null   object \n",
      " 6   charges   1338 non-null   float64\n",
      "dtypes: float64(2), int64(2), object(3)\n",
      "memory usage: 57.6+ KB\n"
     ]
    }
   ],
   "source": [
    "df.info()"
   ]
  },
  {
   "cell_type": "code",
   "execution_count": 8,
   "id": "8dbad76e",
   "metadata": {},
   "outputs": [],
   "source": [
    "import warnings\n",
    "warnings.filterwarnings('ignore')"
   ]
  },
  {
   "cell_type": "code",
   "execution_count": 9,
   "id": "e2858bf6",
   "metadata": {
    "scrolled": true
   },
   "outputs": [
    {
     "data": {
      "text/plain": [
       "<AxesSubplot:xlabel='age', ylabel='children'>"
      ]
     },
     "execution_count": 9,
     "metadata": {},
     "output_type": "execute_result"
    },
    {
     "data": {
      "image/png": "[encoded data removed]",
      "text/plain": [
       "<Figure size 432x288 with 1 Axes>"
      ]
     },
     "metadata": {
      "needs_background": "light"
     },
     "output_type": "display_data"
    }
   ],
   "source": [
    "sns.scatterplot(df.age,df.children)"
   ]
  },
  {
   "cell_type": "code",
   "execution_count": 11,
   "id": "a5837a39",
   "metadata": {},
   "outputs": [
    {
     "data": {
      "text/plain": [
       "<AxesSubplot:xlabel='children', ylabel='bmi'>"
      ]
     },
     "execution_count": 11,
     "metadata": {},
     "output_type": "execute_result"
    },
    {
     "data": {
      "image/png": "[encoded data removed]",
      "text/plain": [
       "<Figure size 432x288 with 1 Axes>"
      ]
     },
     "metadata": {
      "needs_background": "light"
     },
     "output_type": "display_data"
    }
   ],
   "source": [
    "sns.barplot(df.children,df.bmi)"
   ]
  },
  {
   "cell_type": "code",
   "execution_count": 14,
   "id": "329cd938",
   "metadata": {},
   "outputs": [
    {
     "data": {
      "text/html": [
       "<div>\n",
       "<style scoped>\n",
       "    .dataframe tbody tr th:only-of-type {\n",
       "        vertical-align: middle;\n",
       "    }\n",
       "\n",
       "    .dataframe tbody tr th {\n",
       "        vertical-align: top;\n",
       "    }\n",
       "\n",
       "    .dataframe thead th {\n",
       "        text-align: right;\n",
       "    }\n",
       "</style>\n",
       "<table border=\"1\" class=\"dataframe\">\n",
       "  <thead>\n",
       "    <tr style=\"text-align: right;\">\n",
       "      <th></th>\n",
       "      <th>age</th>\n",
       "      <th>bmi</th>\n",
       "      <th>children</th>\n",
       "      <th>charges</th>\n",
       "      <th>sex_male</th>\n",
       "      <th>smoker_yes</th>\n",
       "      <th>region_northwest</th>\n",
       "      <th>region_southeast</th>\n",
       "      <th>region_southwest</th>\n",
       "    </tr>\n",
       "  </thead>\n",
       "  <tbody>\n",
       "    <tr>\n",
       "      <th>0</th>\n",
       "      <td>19</td>\n",
       "      <td>27.900</td>\n",
       "      <td>0</td>\n",
       "      <td>16884.92400</td>\n",
       "      <td>0</td>\n",
       "      <td>1</td>\n",
       "      <td>0</td>\n",
       "      <td>0</td>\n",
       "      <td>1</td>\n",
       "    </tr>\n",
       "    <tr>\n",
       "      <th>1</th>\n",
       "      <td>18</td>\n",
       "      <td>33.770</td>\n",
       "      <td>1</td>\n",
       "      <td>1725.55230</td>\n",
       "      <td>1</td>\n",
       "      <td>0</td>\n",
       "      <td>0</td>\n",
       "      <td>1</td>\n",
       "      <td>0</td>\n",
       "    </tr>\n",
       "    <tr>\n",
       "      <th>2</th>\n",
       "      <td>28</td>\n",
       "      <td>33.000</td>\n",
       "      <td>3</td>\n",
       "      <td>4449.46200</td>\n",
       "      <td>1</td>\n",
       "      <td>0</td>\n",
       "      <td>0</td>\n",
       "      <td>1</td>\n",
       "      <td>0</td>\n",
       "    </tr>\n",
       "    <tr>\n",
       "      <th>3</th>\n",
       "      <td>33</td>\n",
       "      <td>22.705</td>\n",
       "      <td>0</td>\n",
       "      <td>21984.47061</td>\n",
       "      <td>1</td>\n",
       "      <td>0</td>\n",
       "      <td>1</td>\n",
       "      <td>0</td>\n",
       "      <td>0</td>\n",
       "    </tr>\n",
       "    <tr>\n",
       "      <th>4</th>\n",
       "      <td>32</td>\n",
       "      <td>28.880</td>\n",
       "      <td>0</td>\n",
       "      <td>3866.85520</td>\n",
       "      <td>1</td>\n",
       "      <td>0</td>\n",
       "      <td>1</td>\n",
       "      <td>0</td>\n",
       "      <td>0</td>\n",
       "    </tr>\n",
       "  </tbody>\n",
       "</table>\n",
       "</div>"
      ],
      "text/plain": [
       "   age     bmi  children      charges  sex_male  smoker_yes  region_northwest  \\\n",
       "0   19  27.900         0  16884.92400         0           1                 0   \n",
       "1   18  33.770         1   1725.55230         1           0                 0   \n",
       "2   28  33.000         3   4449.46200         1           0                 0   \n",
       "3   33  22.705         0  21984.47061         1           0                 1   \n",
       "4   32  28.880         0   3866.85520         1           0                 1   \n",
       "\n",
       "   region_southeast  region_southwest  \n",
       "0                 0                 1  \n",
       "1                 1                 0  \n",
       "2                 1                 0  \n",
       "3                 0                 0  \n",
       "4                 0                 0  "
      ]
     },
     "execution_count": 14,
     "metadata": {},
     "output_type": "execute_result"
    }
   ],
   "source": [
    "df = pd.get_dummies(df,drop_first=True)\n",
    "df.head()"
   ]
  },
  {
   "cell_type": "code",
   "execution_count": 15,
   "id": "71fbd831",
   "metadata": {},
   "outputs": [],
   "source": [
    "from sklearn.preprocessing import StandardScaler\n",
    "scaler=StandardScaler()"
   ]
  },
  {
   "cell_type": "code",
   "execution_count": 16,
   "id": "e0e9a088",
   "metadata": {},
   "outputs": [],
   "source": [
    "df = scaler.fit_transform(df)"
   ]
  },
  {
   "cell_type": "code",
   "execution_count": 19,
   "id": "e0ccb928",
   "metadata": {},
   "outputs": [
    {
     "data": {
      "text/html": [
       "<div>\n",
       "<style scoped>\n",
       "    .dataframe tbody tr th:only-of-type {\n",
       "        vertical-align: middle;\n",
       "    }\n",
       "\n",
       "    .dataframe tbody tr th {\n",
       "        vertical-align: top;\n",
       "    }\n",
       "\n",
       "    .dataframe thead th {\n",
       "        text-align: right;\n",
       "    }\n",
       "</style>\n",
       "<table border=\"1\" class=\"dataframe\">\n",
       "  <thead>\n",
       "    <tr style=\"text-align: right;\">\n",
       "      <th></th>\n",
       "      <th>age</th>\n",
       "      <th>bmi</th>\n",
       "      <th>children</th>\n",
       "      <th>charges</th>\n",
       "      <th>sex_male</th>\n",
       "      <th>smoker_yes</th>\n",
       "      <th>region_northwest</th>\n",
       "      <th>region_southeast</th>\n",
       "      <th>region_southwest</th>\n",
       "    </tr>\n",
       "  </thead>\n",
       "  <tbody>\n",
       "    <tr>\n",
       "      <th>0</th>\n",
       "      <td>19</td>\n",
       "      <td>27.900</td>\n",
       "      <td>0</td>\n",
       "      <td>16884.92400</td>\n",
       "      <td>0</td>\n",
       "      <td>1</td>\n",
       "      <td>0</td>\n",
       "      <td>0</td>\n",
       "      <td>1</td>\n",
       "    </tr>\n",
       "    <tr>\n",
       "      <th>1</th>\n",
       "      <td>18</td>\n",
       "      <td>33.770</td>\n",
       "      <td>1</td>\n",
       "      <td>1725.55230</td>\n",
       "      <td>1</td>\n",
       "      <td>0</td>\n",
       "      <td>0</td>\n",
       "      <td>1</td>\n",
       "      <td>0</td>\n",
       "    </tr>\n",
       "    <tr>\n",
       "      <th>2</th>\n",
       "      <td>28</td>\n",
       "      <td>33.000</td>\n",
       "      <td>3</td>\n",
       "      <td>4449.46200</td>\n",
       "      <td>1</td>\n",
       "      <td>0</td>\n",
       "      <td>0</td>\n",
       "      <td>1</td>\n",
       "      <td>0</td>\n",
       "    </tr>\n",
       "    <tr>\n",
       "      <th>3</th>\n",
       "      <td>33</td>\n",
       "      <td>22.705</td>\n",
       "      <td>0</td>\n",
       "      <td>21984.47061</td>\n",
       "      <td>1</td>\n",
       "      <td>0</td>\n",
       "      <td>1</td>\n",
       "      <td>0</td>\n",
       "      <td>0</td>\n",
       "    </tr>\n",
       "    <tr>\n",
       "      <th>4</th>\n",
       "      <td>32</td>\n",
       "      <td>28.880</td>\n",
       "      <td>0</td>\n",
       "      <td>3866.85520</td>\n",
       "      <td>1</td>\n",
       "      <td>0</td>\n",
       "      <td>1</td>\n",
       "      <td>0</td>\n",
       "      <td>0</td>\n",
       "    </tr>\n",
       "  </tbody>\n",
       "</table>\n",
       "</div>"
      ],
      "text/plain": [
       "   age     bmi  children      charges  sex_male  smoker_yes  region_northwest  \\\n",
       "0   19  27.900         0  16884.92400         0           1                 0   \n",
       "1   18  33.770         1   1725.55230         1           0                 0   \n",
       "2   28  33.000         3   4449.46200         1           0                 0   \n",
       "3   33  22.705         0  21984.47061         1           0                 1   \n",
       "4   32  28.880         0   3866.85520         1           0                 1   \n",
       "\n",
       "   region_southeast  region_southwest  \n",
       "0                 0                 1  \n",
       "1                 1                 0  \n",
       "2                 1                 0  \n",
       "3                 0                 0  \n",
       "4                 0                 0  "
      ]
     },
     "execution_count": 19,
     "metadata": {},
     "output_type": "execute_result"
    }
   ],
   "source": [
    "df.head()"
   ]
  },
  {
   "cell_type": "code",
   "execution_count": 20,
   "id": "0f82f0ed",
   "metadata": {},
   "outputs": [],
   "source": [
    "X = df.drop('charges',axis=1)\n",
    "Y = df['charges']"
   ]
  },
  {
   "cell_type": "code",
   "execution_count": 22,
   "id": "f0b29fce",
   "metadata": {},
   "outputs": [],
   "source": [
    "from sklearn.model_selection import train_test_split\n",
    "X_train,X_test,Y_train,Y_test = train_test_split(X,Y,test_size=0.3,random_state=10)"
   ]
  },
  {
   "cell_type": "code",
   "execution_count": 23,
   "id": "7632db4f",
   "metadata": {},
   "outputs": [
    {
     "data": {
      "text/html": [
       "<div>\n",
       "<style scoped>\n",
       "    .dataframe tbody tr th:only-of-type {\n",
       "        vertical-align: middle;\n",
       "    }\n",
       "\n",
       "    .dataframe tbody tr th {\n",
       "        vertical-align: top;\n",
       "    }\n",
       "\n",
       "    .dataframe thead th {\n",
       "        text-align: right;\n",
       "    }\n",
       "</style>\n",
       "<table border=\"1\" class=\"dataframe\">\n",
       "  <thead>\n",
       "    <tr style=\"text-align: right;\">\n",
       "      <th></th>\n",
       "      <th>age</th>\n",
       "      <th>bmi</th>\n",
       "      <th>children</th>\n",
       "      <th>sex_male</th>\n",
       "      <th>smoker_yes</th>\n",
       "      <th>region_northwest</th>\n",
       "      <th>region_southeast</th>\n",
       "      <th>region_southwest</th>\n",
       "    </tr>\n",
       "  </thead>\n",
       "  <tbody>\n",
       "    <tr>\n",
       "      <th>428</th>\n",
       "      <td>21</td>\n",
       "      <td>16.815</td>\n",
       "      <td>1</td>\n",
       "      <td>0</td>\n",
       "      <td>0</td>\n",
       "      <td>0</td>\n",
       "      <td>0</td>\n",
       "      <td>0</td>\n",
       "    </tr>\n",
       "    <tr>\n",
       "      <th>226</th>\n",
       "      <td>28</td>\n",
       "      <td>38.060</td>\n",
       "      <td>0</td>\n",
       "      <td>1</td>\n",
       "      <td>0</td>\n",
       "      <td>0</td>\n",
       "      <td>1</td>\n",
       "      <td>0</td>\n",
       "    </tr>\n",
       "    <tr>\n",
       "      <th>867</th>\n",
       "      <td>57</td>\n",
       "      <td>43.700</td>\n",
       "      <td>1</td>\n",
       "      <td>1</td>\n",
       "      <td>0</td>\n",
       "      <td>0</td>\n",
       "      <td>0</td>\n",
       "      <td>1</td>\n",
       "    </tr>\n",
       "    <tr>\n",
       "      <th>397</th>\n",
       "      <td>21</td>\n",
       "      <td>31.020</td>\n",
       "      <td>0</td>\n",
       "      <td>1</td>\n",
       "      <td>0</td>\n",
       "      <td>0</td>\n",
       "      <td>1</td>\n",
       "      <td>0</td>\n",
       "    </tr>\n",
       "    <tr>\n",
       "      <th>300</th>\n",
       "      <td>36</td>\n",
       "      <td>27.550</td>\n",
       "      <td>3</td>\n",
       "      <td>1</td>\n",
       "      <td>0</td>\n",
       "      <td>0</td>\n",
       "      <td>0</td>\n",
       "      <td>0</td>\n",
       "    </tr>\n",
       "    <tr>\n",
       "      <th>...</th>\n",
       "      <td>...</td>\n",
       "      <td>...</td>\n",
       "      <td>...</td>\n",
       "      <td>...</td>\n",
       "      <td>...</td>\n",
       "      <td>...</td>\n",
       "      <td>...</td>\n",
       "      <td>...</td>\n",
       "    </tr>\n",
       "    <tr>\n",
       "      <th>1180</th>\n",
       "      <td>42</td>\n",
       "      <td>41.325</td>\n",
       "      <td>1</td>\n",
       "      <td>0</td>\n",
       "      <td>0</td>\n",
       "      <td>0</td>\n",
       "      <td>0</td>\n",
       "      <td>0</td>\n",
       "    </tr>\n",
       "    <tr>\n",
       "      <th>1147</th>\n",
       "      <td>20</td>\n",
       "      <td>31.920</td>\n",
       "      <td>0</td>\n",
       "      <td>0</td>\n",
       "      <td>0</td>\n",
       "      <td>1</td>\n",
       "      <td>0</td>\n",
       "      <td>0</td>\n",
       "    </tr>\n",
       "    <tr>\n",
       "      <th>527</th>\n",
       "      <td>51</td>\n",
       "      <td>25.800</td>\n",
       "      <td>1</td>\n",
       "      <td>0</td>\n",
       "      <td>0</td>\n",
       "      <td>0</td>\n",
       "      <td>0</td>\n",
       "      <td>1</td>\n",
       "    </tr>\n",
       "    <tr>\n",
       "      <th>1149</th>\n",
       "      <td>42</td>\n",
       "      <td>34.100</td>\n",
       "      <td>0</td>\n",
       "      <td>1</td>\n",
       "      <td>0</td>\n",
       "      <td>0</td>\n",
       "      <td>0</td>\n",
       "      <td>1</td>\n",
       "    </tr>\n",
       "    <tr>\n",
       "      <th>1289</th>\n",
       "      <td>44</td>\n",
       "      <td>34.320</td>\n",
       "      <td>1</td>\n",
       "      <td>1</td>\n",
       "      <td>0</td>\n",
       "      <td>0</td>\n",
       "      <td>1</td>\n",
       "      <td>0</td>\n",
       "    </tr>\n",
       "  </tbody>\n",
       "</table>\n",
       "<p>936 rows × 8 columns</p>\n",
       "</div>"
      ],
      "text/plain": [
       "      age     bmi  children  sex_male  smoker_yes  region_northwest  \\\n",
       "428    21  16.815         1         0           0                 0   \n",
       "226    28  38.060         0         1           0                 0   \n",
       "867    57  43.700         1         1           0                 0   \n",
       "397    21  31.020         0         1           0                 0   \n",
       "300    36  27.550         3         1           0                 0   \n",
       "...   ...     ...       ...       ...         ...               ...   \n",
       "1180   42  41.325         1         0           0                 0   \n",
       "1147   20  31.920         0         0           0                 1   \n",
       "527    51  25.800         1         0           0                 0   \n",
       "1149   42  34.100         0         1           0                 0   \n",
       "1289   44  34.320         1         1           0                 0   \n",
       "\n",
       "      region_southeast  region_southwest  \n",
       "428                  0                 0  \n",
       "226                  1                 0  \n",
       "867                  0                 1  \n",
       "397                  1                 0  \n",
       "300                  0                 0  \n",
       "...                ...               ...  \n",
       "1180                 0                 0  \n",
       "1147                 0                 0  \n",
       "527                  0                 1  \n",
       "1149                 0                 1  \n",
       "1289                 1                 0  \n",
       "\n",
       "[936 rows x 8 columns]"
      ]
     },
     "execution_count": 23,
     "metadata": {},
     "output_type": "execute_result"
    }
   ],
   "source": [
    "X_train"
   ]
  },
  {
   "cell_type": "code",
   "execution_count": 24,
   "id": "4c15a0a0",
   "metadata": {},
   "outputs": [
    {
     "data": {
      "text/plain": [
       "428      3167.45585\n",
       "226      2689.49540\n",
       "867     11576.13000\n",
       "397     16586.49771\n",
       "300      6746.74250\n",
       "           ...     \n",
       "1180     7650.77375\n",
       "1147     2261.56880\n",
       "527      9861.02500\n",
       "1149     5979.73100\n",
       "1289     7147.47280\n",
       "Name: charges, Length: 936, dtype: float64"
      ]
     },
     "execution_count": 24,
     "metadata": {},
     "output_type": "execute_result"
    }
   ],
   "source": [
    "Y_train"
   ]
  },
  {
   "cell_type": "code",
   "execution_count": 25,
   "id": "f09c7aca",
   "metadata": {},
   "outputs": [
    {
     "data": {
      "text/html": [
       "<div>\n",
       "<style scoped>\n",
       "    .dataframe tbody tr th:only-of-type {\n",
       "        vertical-align: middle;\n",
       "    }\n",
       "\n",
       "    .dataframe tbody tr th {\n",
       "        vertical-align: top;\n",
       "    }\n",
       "\n",
       "    .dataframe thead th {\n",
       "        text-align: right;\n",
       "    }\n",
       "</style>\n",
       "<table border=\"1\" class=\"dataframe\">\n",
       "  <thead>\n",
       "    <tr style=\"text-align: right;\">\n",
       "      <th></th>\n",
       "      <th>age</th>\n",
       "      <th>bmi</th>\n",
       "      <th>children</th>\n",
       "      <th>sex_male</th>\n",
       "      <th>smoker_yes</th>\n",
       "      <th>region_northwest</th>\n",
       "      <th>region_southeast</th>\n",
       "      <th>region_southwest</th>\n",
       "    </tr>\n",
       "  </thead>\n",
       "  <tbody>\n",
       "    <tr>\n",
       "      <th>7</th>\n",
       "      <td>37</td>\n",
       "      <td>27.740</td>\n",
       "      <td>3</td>\n",
       "      <td>0</td>\n",
       "      <td>0</td>\n",
       "      <td>1</td>\n",
       "      <td>0</td>\n",
       "      <td>0</td>\n",
       "    </tr>\n",
       "    <tr>\n",
       "      <th>999</th>\n",
       "      <td>36</td>\n",
       "      <td>26.885</td>\n",
       "      <td>0</td>\n",
       "      <td>0</td>\n",
       "      <td>0</td>\n",
       "      <td>1</td>\n",
       "      <td>0</td>\n",
       "      <td>0</td>\n",
       "    </tr>\n",
       "    <tr>\n",
       "      <th>1209</th>\n",
       "      <td>59</td>\n",
       "      <td>37.100</td>\n",
       "      <td>1</td>\n",
       "      <td>1</td>\n",
       "      <td>0</td>\n",
       "      <td>0</td>\n",
       "      <td>0</td>\n",
       "      <td>1</td>\n",
       "    </tr>\n",
       "    <tr>\n",
       "      <th>491</th>\n",
       "      <td>61</td>\n",
       "      <td>25.080</td>\n",
       "      <td>0</td>\n",
       "      <td>0</td>\n",
       "      <td>0</td>\n",
       "      <td>0</td>\n",
       "      <td>1</td>\n",
       "      <td>0</td>\n",
       "    </tr>\n",
       "    <tr>\n",
       "      <th>625</th>\n",
       "      <td>29</td>\n",
       "      <td>26.030</td>\n",
       "      <td>0</td>\n",
       "      <td>0</td>\n",
       "      <td>0</td>\n",
       "      <td>1</td>\n",
       "      <td>0</td>\n",
       "      <td>0</td>\n",
       "    </tr>\n",
       "    <tr>\n",
       "      <th>...</th>\n",
       "      <td>...</td>\n",
       "      <td>...</td>\n",
       "      <td>...</td>\n",
       "      <td>...</td>\n",
       "      <td>...</td>\n",
       "      <td>...</td>\n",
       "      <td>...</td>\n",
       "      <td>...</td>\n",
       "    </tr>\n",
       "    <tr>\n",
       "      <th>854</th>\n",
       "      <td>49</td>\n",
       "      <td>23.845</td>\n",
       "      <td>3</td>\n",
       "      <td>0</td>\n",
       "      <td>1</td>\n",
       "      <td>0</td>\n",
       "      <td>0</td>\n",
       "      <td>0</td>\n",
       "    </tr>\n",
       "    <tr>\n",
       "      <th>554</th>\n",
       "      <td>25</td>\n",
       "      <td>41.325</td>\n",
       "      <td>0</td>\n",
       "      <td>0</td>\n",
       "      <td>0</td>\n",
       "      <td>0</td>\n",
       "      <td>0</td>\n",
       "      <td>0</td>\n",
       "    </tr>\n",
       "    <tr>\n",
       "      <th>1278</th>\n",
       "      <td>39</td>\n",
       "      <td>29.925</td>\n",
       "      <td>1</td>\n",
       "      <td>1</td>\n",
       "      <td>1</td>\n",
       "      <td>0</td>\n",
       "      <td>0</td>\n",
       "      <td>0</td>\n",
       "    </tr>\n",
       "    <tr>\n",
       "      <th>374</th>\n",
       "      <td>20</td>\n",
       "      <td>33.330</td>\n",
       "      <td>0</td>\n",
       "      <td>1</td>\n",
       "      <td>0</td>\n",
       "      <td>0</td>\n",
       "      <td>1</td>\n",
       "      <td>0</td>\n",
       "    </tr>\n",
       "    <tr>\n",
       "      <th>6</th>\n",
       "      <td>46</td>\n",
       "      <td>33.440</td>\n",
       "      <td>1</td>\n",
       "      <td>0</td>\n",
       "      <td>0</td>\n",
       "      <td>0</td>\n",
       "      <td>1</td>\n",
       "      <td>0</td>\n",
       "    </tr>\n",
       "  </tbody>\n",
       "</table>\n",
       "<p>402 rows × 8 columns</p>\n",
       "</div>"
      ],
      "text/plain": [
       "      age     bmi  children  sex_male  smoker_yes  region_northwest  \\\n",
       "7      37  27.740         3         0           0                 1   \n",
       "999    36  26.885         0         0           0                 1   \n",
       "1209   59  37.100         1         1           0                 0   \n",
       "491    61  25.080         0         0           0                 0   \n",
       "625    29  26.030         0         0           0                 1   \n",
       "...   ...     ...       ...       ...         ...               ...   \n",
       "854    49  23.845         3         0           1                 0   \n",
       "554    25  41.325         0         0           0                 0   \n",
       "1278   39  29.925         1         1           1                 0   \n",
       "374    20  33.330         0         1           0                 0   \n",
       "6      46  33.440         1         0           0                 0   \n",
       "\n",
       "      region_southeast  region_southwest  \n",
       "7                    0                 0  \n",
       "999                  0                 0  \n",
       "1209                 0                 1  \n",
       "491                  1                 0  \n",
       "625                  0                 0  \n",
       "...                ...               ...  \n",
       "854                  0                 0  \n",
       "554                  0                 0  \n",
       "1278                 0                 0  \n",
       "374                  1                 0  \n",
       "6                    1                 0  \n",
       "\n",
       "[402 rows x 8 columns]"
      ]
     },
     "execution_count": 25,
     "metadata": {},
     "output_type": "execute_result"
    }
   ],
   "source": [
    "X_test"
   ]
  },
  {
   "cell_type": "code",
   "execution_count": 26,
   "id": "a8580f21",
   "metadata": {},
   "outputs": [
    {
     "data": {
      "text/plain": [
       "7        7281.50560\n",
       "999      5267.81815\n",
       "1209    12347.17200\n",
       "491     24513.09126\n",
       "625      3736.46470\n",
       "           ...     \n",
       "854     24106.91255\n",
       "554     17878.90068\n",
       "1278    22462.04375\n",
       "374      1391.52870\n",
       "6        8240.58960\n",
       "Name: charges, Length: 402, dtype: float64"
      ]
     },
     "execution_count": 26,
     "metadata": {},
     "output_type": "execute_result"
    }
   ],
   "source": [
    "Y_test"
   ]
  },
  {
   "cell_type": "code",
   "execution_count": 28,
   "id": "fee19454",
   "metadata": {},
   "outputs": [],
   "source": [
    "from sklearn.linear_model import LinearRegression"
   ]
  },
  {
   "cell_type": "code",
   "execution_count": 30,
   "id": "0bdf606c",
   "metadata": {},
   "outputs": [
    {
     "data": {
      "text/plain": [
       "LinearRegression()"
      ]
     },
     "execution_count": 30,
     "metadata": {},
     "output_type": "execute_result"
    }
   ],
   "source": [
    "regression_model = LinearRegression()\n",
    "regression_model.fit(X_train,Y_train)"
   ]
  },
  {
   "cell_type": "code",
   "execution_count": 33,
   "id": "35c7a2ba",
   "metadata": {},
   "outputs": [
    {
     "data": {
      "text/plain": [
       "array([ 8.66289282e+03,  6.26149431e+03,  1.53313271e+04,  1.12990250e+04,\n",
       "        4.10416942e+03,  9.57752620e+03,  9.56569870e+03,  2.59094718e+04,\n",
       "        7.62208200e+03,  3.10799083e+04,  2.14334545e+03,  3.99246123e+03,\n",
       "        7.30149883e+03,  1.13256517e+04,  1.29041731e+04,  1.16813258e+04,\n",
       "        5.36823028e+03,  1.85486140e+04,  1.08112315e+04,  3.10508380e+04,\n",
       "        3.43191010e+04,  4.55808378e+03,  1.01652873e+03,  7.28410920e+03,\n",
       "        4.22426246e+03,  1.39159479e+04,  1.19491240e+04,  1.10484079e+04,\n",
       "        6.44017438e+03,  3.13120055e+04, -1.85498859e+03,  3.43195681e+04,\n",
       "        9.33037680e+03,  7.46462557e+03,  7.84810049e+03,  1.18435520e+04,\n",
       "        1.39822142e+04,  1.27153565e+04,  9.89951018e+03,  8.63262584e+03,\n",
       "        1.58561262e+04,  1.04219306e+04,  5.90420147e+03,  1.14191356e+04,\n",
       "        5.05537706e+03,  7.22720850e+03,  6.64277928e+03,  3.45533575e+04,\n",
       "        1.11096068e+04,  1.11677945e+04,  3.29001385e+04,  5.25242199e+03,\n",
       "        1.04388544e+04,  1.47859740e+04,  1.10330792e+04,  1.32397209e+04,\n",
       "        1.22159012e+04,  7.65071110e+03,  7.69779895e+03,  3.52214455e+04,\n",
       "        4.45917592e+02,  3.36673476e+04,  3.78055408e+04,  1.23181771e+03,\n",
       "        2.85993616e+04,  9.89777745e+03,  6.32108114e+03,  9.81054487e+03,\n",
       "        8.33088376e+03,  7.96768319e+03,  7.25496778e+03,  1.87100345e+03,\n",
       "        8.69506408e+03,  1.01287781e+04,  8.81945639e+03,  1.29078228e+04,\n",
       "        6.29316074e+03,  1.07396479e+04, -7.54777767e+02,  1.34384464e+04,\n",
       "        1.19065571e+04,  1.26940476e+04,  2.67554822e+04,  2.21532810e+03,\n",
       "        3.45146138e+04,  4.24309646e+03,  2.38508321e+03,  3.30546462e+03,\n",
       "        9.66250967e+03,  9.68671661e+03,  3.20783173e+04,  3.28811847e+04,\n",
       "        9.52116720e+03,  3.82704496e+04,  1.36288105e+04,  6.22309799e+03,\n",
       "        7.46825117e+03,  1.42987624e+04,  6.68047428e+03,  1.08445483e+04,\n",
       "        8.44926461e+03,  2.31577542e+03,  2.86250872e+03,  7.40147276e+03,\n",
       "        1.07549455e+04,  9.79503040e+03,  3.12293337e+04,  3.00824693e+04,\n",
       "        3.06280696e+04,  4.21646389e+03,  1.06317954e+04,  8.08889352e+03,\n",
       "        6.47471049e+03,  2.67323423e+04,  3.03194737e+04,  3.21146270e+04,\n",
       "        5.34957667e+03,  3.56092948e+04,  6.40873160e+03,  3.37693297e+03,\n",
       "        3.46242911e+04,  1.16036886e+04,  7.19889463e+03,  4.88234042e+03,\n",
       "        3.92941048e+04,  5.27197262e+03,  1.43641058e+04,  9.31719817e+03,\n",
       "        6.70168851e+03,  1.19836695e+04,  1.18507920e+04,  3.62971758e+04,\n",
       "        2.76031664e+04,  3.51847150e+04,  1.27941685e+04,  3.07510360e+04,\n",
       "        1.29525329e+04,  1.30352056e+04,  2.89629667e+04,  5.52748412e+03,\n",
       "        8.55652522e+03,  3.20942960e+04,  1.40105118e+04,  4.11167084e+03,\n",
       "        4.56668712e+03,  3.00354302e+04,  1.39296832e+04,  9.22210554e+03,\n",
       "        1.20115474e+04,  3.93215531e+03,  7.25485723e+03,  4.62096340e+03,\n",
       "        1.76922585e+03,  3.87279556e+04,  1.41025306e+04,  3.73903502e+03,\n",
       "        1.45780080e+04, -1.07501586e+03,  1.59530641e+04,  3.63564194e+04,\n",
       "        1.12851695e+04,  6.65078432e+03,  7.76391684e+03,  1.20490197e+04,\n",
       "        4.76647391e+03,  4.02588967e+04,  1.03456603e+04,  1.01167201e+04,\n",
       "        1.91116839e+03,  1.07325787e+04,  1.21908914e+04,  1.01441146e+04,\n",
       "        7.12970842e+03,  1.18566715e+04,  2.94488565e+04,  8.50764852e+03,\n",
       "        5.95095534e+02,  1.21212853e+04,  9.86621130e+03,  1.57211813e+04,\n",
       "        3.91468251e+04,  1.10055849e+04,  5.85652769e+03,  5.69474320e+03,\n",
       "        2.75916324e+04,  7.07206625e+03,  3.61685497e+04,  9.60270403e+03,\n",
       "        3.07970850e+04,  1.28522429e+03,  8.36482021e+03,  9.28110927e+03,\n",
       "        7.55536549e+03,  1.00107063e+04,  1.38919142e+04,  1.19157544e+04,\n",
       "        2.47900507e+04,  3.35124505e+03,  1.09408373e+04,  7.16934223e+03,\n",
       "        6.29944608e+03, -1.38743418e+02,  1.59986819e+04,  1.38030238e+04,\n",
       "        2.85141271e+03,  3.73907160e+04,  2.80131861e+04,  1.58615022e+04,\n",
       "        3.25300529e+04,  4.76146912e+03,  9.72786823e+03,  3.33777429e+04,\n",
       "        8.78530761e+03,  9.13856346e+03,  3.27360128e+04,  6.10738676e+03,\n",
       "        9.50262885e+03,  9.02499836e+02,  1.50297377e+04,  1.31697740e+04,\n",
       "        7.21218990e+03,  7.52492008e+03,  5.94273553e+02,  1.42735998e+04,\n",
       "       -2.75732555e+02,  2.60277699e+04,  1.45658811e+04,  4.35580361e+03,\n",
       "        8.65276580e+03,  2.93538963e+04,  5.88339719e+03,  2.56475173e+04,\n",
       "        7.61416125e+03,  3.02759690e+04,  1.15401779e+04,  5.27308045e+03,\n",
       "        1.10112703e+04,  3.78110114e+04, -1.62415023e+03,  1.44931783e+04,\n",
       "        1.06515307e+04,  2.84555592e+04,  1.11945903e+04,  3.28706614e+04,\n",
       "        1.15471008e+04,  3.36781270e+03,  1.28854362e+04,  8.15135344e+03,\n",
       "        1.30264066e+04,  3.86640677e+02,  9.64389149e+03,  1.28379019e+04,\n",
       "        3.39768611e+04,  5.14076906e+03,  1.04837581e+04,  1.19065369e+04,\n",
       "        9.59887541e+03,  5.66660607e+03,  1.68262768e+02,  1.61659995e+04,\n",
       "        3.13891625e+03,  3.52353910e+04,  8.58814145e+03,  3.68741758e+04,\n",
       "        8.14458003e+03,  2.81229310e+03,  1.61310308e+04,  1.09104110e+04,\n",
       "        4.40972782e+03,  1.02679241e+04,  2.31577542e+03,  2.64835162e+03,\n",
       "        1.03937131e+04,  1.17125739e+04,  1.16574287e+04,  3.27987639e+03,\n",
       "        2.82057665e+04,  7.08015538e+02,  9.13679379e+03,  3.54073582e+04,\n",
       "       -2.80219913e+03,  2.70138282e+03,  1.34580679e+04,  9.40074973e+03,\n",
       "        3.25632970e+04,  1.53440647e+03,  4.33741919e+03,  9.87732814e+03,\n",
       "        2.94563462e+04,  3.01103679e+03,  7.71366371e+03,  5.01090951e+03,\n",
       "        7.92288643e+03,  6.95754762e+03,  2.46664897e+04,  2.76516630e+03,\n",
       "        2.95884333e+04,  1.27283176e+04,  6.90737415e+03,  1.51284994e+04,\n",
       "        3.64082248e+04,  8.96855230e+03, -7.71092163e+00,  2.76856562e+04,\n",
       "        1.12981228e+04,  1.14166178e+04,  1.71100513e+04,  1.10448292e+04,\n",
       "        1.22727740e+04,  1.09925417e+04,  7.86784228e+03,  9.00319436e+03,\n",
       "        7.60014686e+03,  1.52859239e+03,  1.33019422e+04,  3.79872710e+04,\n",
       "        3.96396728e+04,  8.99261520e+03,  1.08699874e+04,  1.42262685e+04,\n",
       "        1.11542995e+04,  6.15229443e+03,  1.06850067e+04,  9.44655066e+03,\n",
       "        9.77979091e+02,  1.03636526e+04,  3.94154877e+03,  3.80394874e+04,\n",
       "        8.40051305e+03,  2.76118094e+03,  3.36072833e+04,  1.43838411e+04,\n",
       "        1.10739947e+04,  2.90641491e+04,  5.97199149e+03,  1.11070949e+04,\n",
       "        1.06631198e+04,  3.47808317e+03,  3.17236718e+04,  3.48114870e+04,\n",
       "        1.55195741e+04,  1.68172076e+03,  1.02920108e+04,  1.27595679e+04,\n",
       "        8.87000524e+03,  1.54481962e+04,  1.18264775e+04,  8.48364485e+03,\n",
       "        9.63549424e+03,  3.36581721e+04,  3.00286196e+04,  7.37728681e+03,\n",
       "       -1.98699639e+03,  1.99096374e+03,  1.72482920e+04,  8.42895511e+03,\n",
       "        3.06592593e+04,  8.09320961e+03,  3.35517277e+03,  5.79966747e+03,\n",
       "        1.45934067e+04,  1.06541622e+04,  3.97757853e+03,  5.93966056e+03,\n",
       "        6.18044635e+03,  2.32301509e+03,  2.52937575e+04,  1.44814807e+04,\n",
       "        4.13893863e+03,  5.92928222e+03,  9.54745773e+03,  8.19863663e+03,\n",
       "        2.86644413e+04,  6.19332874e+03,  4.94047657e+03,  1.24292856e+04,\n",
       "        7.29471824e+03,  7.86068964e+03,  8.93186645e+03,  5.91554031e+03,\n",
       "        5.42576119e+03,  1.13716767e+04,  2.97192238e+04,  9.07591399e+03,\n",
       "        5.28383521e+03,  1.14142011e+04,  1.82694734e+03,  1.23921848e+04,\n",
       "        3.11507469e+04,  1.97790585e+03,  1.32050901e+04,  1.10992776e+04,\n",
       "        1.09717893e+04,  6.19948481e+03,  1.04011017e+04,  1.75715335e+04,\n",
       "        1.07158859e+04,  3.45919351e+04,  8.01354753e+03,  3.24997446e+04,\n",
       "        2.91793875e+03,  1.07751646e+04])"
      ]
     },
     "execution_count": 33,
     "metadata": {},
     "output_type": "execute_result"
    }
   ],
   "source": [
    "predict = regression_model.predict(X_test)\n",
    "predict"
   ]
  },
  {
   "cell_type": "code",
   "execution_count": 34,
   "id": "8f423e5a",
   "metadata": {},
   "outputs": [
    {
     "data": {
      "text/plain": [
       "0.7618780003618578"
      ]
     },
     "execution_count": 34,
     "metadata": {},
     "output_type": "execute_result"
    }
   ],
   "source": [
    "regression_model.score(X_train,Y_train)"
   ]
  },
  {
   "cell_type": "code",
   "execution_count": 35,
   "id": "a9b58346",
   "metadata": {},
   "outputs": [
    {
     "data": {
      "text/plain": [
       "0.7166124432331724"
      ]
     },
     "execution_count": 35,
     "metadata": {},
     "output_type": "execute_result"
    }
   ],
   "source": [
    "regression_model.score(X_test,Y_test)"
   ]
  },
  {
   "cell_type": "code",
   "execution_count": 36,
   "id": "e4c795c5",
   "metadata": {},
   "outputs": [],
   "source": [
    "from sklearn.metrics import mean_squared_error,r2_score, mean_absolute_error"
   ]
  },
  {
   "cell_type": "code",
   "execution_count": 38,
   "id": "494ae559",
   "metadata": {},
   "outputs": [
    {
     "name": "stdout",
     "output_type": "stream",
     "text": [
      "36800107.8880156\n"
     ]
    }
   ],
   "source": [
    "print(mean_squared_error(Y_test,predict))"
   ]
  },
  {
   "cell_type": "code",
   "execution_count": 39,
   "id": "04317256",
   "metadata": {},
   "outputs": [
    {
     "name": "stdout",
     "output_type": "stream",
     "text": [
      "4226.647664219902\n"
     ]
    }
   ],
   "source": [
    "print(mean_absolute_error(Y_test,predict))"
   ]
  },
  {
   "cell_type": "code",
   "execution_count": 40,
   "id": "aeb6fd97",
   "metadata": {},
   "outputs": [
    {
     "name": "stdout",
     "output_type": "stream",
     "text": [
      "0.7166124432331724\n"
     ]
    }
   ],
   "source": [
    "print(r2_score(Y_test,predict))"
   ]
  },
  {
   "cell_type": "code",
   "execution_count": null,
   "id": "77a67625",
   "metadata": {},
   "outputs": [],
   "source": []
  },
  {
   "cell_type": "code",
   "execution_count": null,
   "id": "f149d0d3",
   "metadata": {},
   "outputs": [],
   "source": []
  },
  {
   "cell_type": "code",
   "execution_count": null,
   "id": "9d64faaa",
   "metadata": {},
   "outputs": [],
   "source": []
  }
 ],
 "metadata": {
  "kernelspec": {
   "display_name": "Python 3",
   "language": "python",
   "name": "python3"
  },
  "language_info": {
   "codemirror_mode": {
    "name": "ipython",
    "version": 3
   },
   "file_extension": ".py",
   "mimetype": "text/x-python",
   "name": "python",
   "nbconvert_exporter": "python",
   "pygments_lexer": "ipython3",
   "version": "3.8.8"
  }
 },
 "nbformat": 4,
 "nbformat_minor": 5
}
